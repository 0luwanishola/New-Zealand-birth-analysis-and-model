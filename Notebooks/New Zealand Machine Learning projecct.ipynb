{
 "cells": [
  {
   "cell_type": "markdown",
   "id": "f32718dc",
   "metadata": {},
   "source": [
    "#NEW ZEALAND MACHINE LEARNING PROJECT "
   ]
  },
  {
   "cell_type": "code",
   "execution_count": 42,
   "id": "52a13972",
   "metadata": {},
   "outputs": [],
   "source": [
    "import pandas as pd\n",
    "import numpy as np\n",
    "import matplotlib.pyplot as plt\n",
    "import seaborn as sns\n",
    "from sklearn.model_selection import train_test_split\n",
    "from sklearn.linear_model import LinearRegression\n",
    "from sklearn.ensemble import RandomForestRegressor\n",
    "from sklearn.metrics import mean_absolute_error, mean_squared_error, r2_score\n",
    "from sklearn.preprocessing import LabelEncoder\n",
    "\n",
    "# Set style for better visualizations\n",
    "sns.set_style(\"whitegrid\")\n",
    "plt.rcParams['figure.figsize'] = (12, 6)"
   ]
  },
  {
   "cell_type": "code",
   "execution_count": 43,
   "id": "9586f90a",
   "metadata": {},
   "outputs": [],
   "source": [
    "# ============================================================================\n",
    "# STEP 1: LOAD AND PREPARE DATASET\n",
    "# ============================================================================"
   ]
  },
  {
   "cell_type": "code",
   "execution_count": 44,
   "id": "8331c21d",
   "metadata": {},
   "outputs": [],
   "source": [
    "# Load the CSV file\n",
    "df = pd.read_csv(\n",
    "    'C:/Users/DELL/DataSet/Births-and-deaths-Year-ended-December-2021-CSV/bd-dec22-births-deaths-by-region.csv')"
   ]
  },
  {
   "cell_type": "code",
   "execution_count": 45,
   "id": "991cafa6",
   "metadata": {},
   "outputs": [
    {
     "name": "stdout",
     "output_type": "stream",
     "text": [
      "\n",
      "Dataset shape: (288, 4)\n",
      "Years covered: 2005 to 2022\n",
      "Number of regions: 16\n",
      "\n",
      "First 3 rows:\n",
      "   Period Birth_Death            Region  Count\n",
      "0    2005      Births  Northland region   2067\n",
      "1    2005      Births   Auckland region  20745\n",
      "2    2005      Births    Waikato region   5667\n",
      "\n",
      "Last 3 rows:\n",
      "   Period Birth_Death            Region  Count\n",
      "0    2005      Births  Northland region   2067\n",
      "1    2005      Births   Auckland region  20745\n",
      "2    2005      Births    Waikato region   5667\n"
     ]
    }
   ],
   "source": [
    "# Filter for births only\n",
    "births_df = df[df['Birth_Death'] == 'Births'].copy()\n",
    "\n",
    "# Remove 'New Zealand' total and 'Region not stated'\n",
    "births_df = births_df[\n",
    "    (births_df['Region'] != 'New Zealand') &\n",
    "    (~births_df['Region'].str.contains('not stated', case=False, na=False))\n",
    "].copy()\n",
    "\n",
    "print(f\"\\nDataset shape: {births_df.shape}\")\n",
    "print(\n",
    "    f\"Years covered: {births_df['Period'].min()} to {births_df['Period'].max()}\")\n",
    "print(f\"Number of regions: {births_df['Region'].nunique()}\")\n",
    "print(f\"\\nFirst 3 rows:\")\n",
    "print(births_df.head(3))\n",
    "print(f\"\\nLast 3 rows:\")\n",
    "print(births_df.head(3))"
   ]
  },
  {
   "cell_type": "code",
   "execution_count": 46,
   "id": "6ccaa15e",
   "metadata": {},
   "outputs": [],
   "source": [
    "# ============================================================================\n",
    "# STEP 2: FEATURE ENGINEERING - REGION SIZE CATEGORIES\n",
    "# ============================================================================"
   ]
  },
  {
   "cell_type": "code",
   "execution_count": 47,
   "id": "c3d82f67",
   "metadata": {},
   "outputs": [
    {
     "name": "stdout",
     "output_type": "stream",
     "text": [
      "\n",
      "Average births by region:\n",
      "                  Region    Avg_Births\n",
      "0        Auckland region  21771.833333\n",
      "2      Canterbury region   6977.833333\n",
      "14     Wellington region   6220.500000\n",
      "13        Waikato region   6082.833333\n",
      "1   Bay of Plenty region   3943.500000\n"
     ]
    }
   ],
   "source": [
    "# Calculate average births per year for each region\n",
    "region_avg = births_df.groupby('Region')['Count'].mean().reset_index()\n",
    "region_avg.columns = ['Region', 'Avg_Births']\n",
    "region_avg = region_avg.sort_values('Avg_Births', ascending=False)\n",
    "\n",
    "print(\"\\nAverage births by region:\")\n",
    "print(region_avg.head(5))"
   ]
  },
  {
   "cell_type": "code",
   "execution_count": 48,
   "id": "4f0ed958",
   "metadata": {},
   "outputs": [
    {
     "name": "stdout",
     "output_type": "stream",
     "text": [
      "\n",
      "Median average births: 2199.00\n",
      "Upper threshold (median + 10%): 2418.90\n",
      "Lower threshold (median - 10%): 1979.10\n"
     ]
    }
   ],
   "source": [
    "# Calculate median\n",
    "median_births = region_avg['Avg_Births'].median()\n",
    "print(f\"\\nMedian average births: {median_births:.2f}\")\n",
    "\n",
    "# Define thresholds (±10% of median)\n",
    "upper_threshold = median_births * 1.10\n",
    "lower_threshold = median_births * 0.90\n",
    "\n",
    "print(f\"Upper threshold (median + 10%): {upper_threshold:.2f}\")\n",
    "print(f\"Lower threshold (median - 10%): {lower_threshold:.2f}\")"
   ]
  },
  {
   "cell_type": "code",
   "execution_count": 49,
   "id": "a87a3c20",
   "metadata": {},
   "outputs": [
    {
     "name": "stdout",
     "output_type": "stream",
     "text": [
      "\n",
      "Region categorization:\n",
      "                      Region    Avg_Births Size_Category\n",
      "0            Auckland region  21771.833333         Large\n",
      "2          Canterbury region   6977.833333         Large\n",
      "14         Wellington region   6220.500000         Large\n",
      "13            Waikato region   6082.833333         Large\n",
      "1       Bay of Plenty region   3943.500000         Large\n",
      "5   Manawatu-Wanganui region   3083.166667         Large\n",
      "9               Otago region   2269.166667        Medium\n",
      "8           Northland region   2232.833333        Medium\n",
      "4         Hawke's Bay region   2165.166667        Medium\n",
      "11           Taranaki region   1518.166667         Small\n",
      "10          Southland region   1220.000000         Small\n",
      "3            Gisborne region    724.500000         Small\n",
      "7              Nelson region    547.833333         Small\n",
      "6         Marlborough region    508.166667         Small\n",
      "12             Tasman region    489.166667         Small\n",
      "15         West Coast region    374.833333         Small\n"
     ]
    }
   ],
   "source": [
    "# Categorize regions\n",
    "def categorize_region(avg_births):\n",
    "    if avg_births > upper_threshold:\n",
    "        return 'Large'\n",
    "    elif avg_births < lower_threshold:\n",
    "        return 'Small'\n",
    "    else:\n",
    "        return 'Medium'\n",
    "\n",
    "\n",
    "region_avg['Size_Category'] = region_avg['Avg_Births'].apply(categorize_region)\n",
    "\n",
    "print(\"\\nRegion categorization:\")\n",
    "print(region_avg[['Region', 'Avg_Births', 'Size_Category']])"
   ]
  },
  {
   "cell_type": "code",
   "execution_count": 50,
   "id": "51e6d670",
   "metadata": {},
   "outputs": [
    {
     "name": "stdout",
     "output_type": "stream",
     "text": [
      "\n",
      "Category distribution:\n",
      "Size_Category\n",
      "Small     7\n",
      "Large     6\n",
      "Medium    3\n",
      "Name: count, dtype: int64\n"
     ]
    }
   ],
   "source": [
    "# Merge back to main dataframe\n",
    "births_df = births_df.merge(\n",
    "    region_avg[['Region', 'Size_Category']], on='Region', how='left')\n",
    "\n",
    "# Display category distribution\n",
    "print(\"\\nCategory distribution:\")\n",
    "print(region_avg['Size_Category'].value_counts())"
   ]
  },
  {
   "cell_type": "code",
   "execution_count": 51,
   "id": "de3b900f",
   "metadata": {},
   "outputs": [],
   "source": [
    "# ============================================================================\n",
    "# STEP 3: CREATE ADDITIONAL FEATURES\n",
    "# ============================================================================"
   ]
  },
  {
   "cell_type": "code",
   "execution_count": 52,
   "id": "05a595b0",
   "metadata": {},
   "outputs": [
    {
     "name": "stdout",
     "output_type": "stream",
     "text": [
      "\n",
      "Features created:\n",
      "                     Region  Year Size_Category  Count\n",
      "0          Northland region  2005        Medium   2067\n",
      "1           Auckland region  2005         Large  20745\n",
      "2            Waikato region  2005         Large   5667\n",
      "3      Bay of Plenty region  2005         Large   3771\n",
      "4           Gisborne region  2005         Small    777\n",
      "5        Hawke's Bay region  2005        Medium   2115\n",
      "6           Taranaki region  2005         Small   1410\n",
      "7  Manawatu-Wanganui region  2005         Large   3093\n",
      "8         Wellington region  2005         Large   6225\n",
      "9             Tasman region  2005         Small    513\n"
     ]
    }
   ],
   "source": [
    "# Feature 1: Year as numeric\n",
    "births_df['Year'] = births_df['Period']\n",
    "\n",
    "# Feature 2: Encode region as numeric (for models that need it)\n",
    "le_region = LabelEncoder()\n",
    "births_df['Region_Encoded'] = le_region.fit_transform(births_df['Region'])\n",
    "\n",
    "# Feature 3: Encode size category\n",
    "le_size = LabelEncoder()\n",
    "births_df['Size_Category_Encoded'] = le_size.fit_transform(\n",
    "    births_df['Size_Category'])\n",
    "\n",
    "print(\"\\nFeatures created:\")\n",
    "print(births_df[['Region', 'Year', 'Size_Category', 'Count']].head(10))"
   ]
  },
  {
   "cell_type": "code",
   "execution_count": 53,
   "id": "4085d8de",
   "metadata": {},
   "outputs": [],
   "source": [
    "# ============================================================================\n",
    "# STEP 4: PREPARE DATA FOR MODELING\n",
    "# ============================================================================"
   ]
  },
  {
   "cell_type": "code",
   "execution_count": 54,
   "id": "07c030f6",
   "metadata": {},
   "outputs": [
    {
     "name": "stdout",
     "output_type": "stream",
     "text": [
      "\n",
      "Features shape: (288, 3)\n",
      "Target shape: (288,)\n"
     ]
    }
   ],
   "source": [
    "# Define features (X) and target (y)\n",
    "X = births_df[['Year', 'Region_Encoded', 'Size_Category_Encoded']]\n",
    "y = births_df['Count']\n",
    "\n",
    "print(f\"\\nFeatures shape: {X.shape}\")\n",
    "print(f\"Target shape: {y.shape}\")"
   ]
  },
  {
   "cell_type": "code",
   "execution_count": 55,
   "id": "db76de4f",
   "metadata": {},
   "outputs": [
    {
     "name": "stdout",
     "output_type": "stream",
     "text": [
      "\n",
      "Training set size: 230\n",
      "Testing set size: 58\n"
     ]
    }
   ],
   "source": [
    "# Split into training and testing sets (80-20 split)\n",
    "X_train, X_test, y_train, y_test = train_test_split(\n",
    "    X, y, test_size=0.2, random_state=42)\n",
    "\n",
    "print(f\"\\nTraining set size: {X_train.shape[0]}\")\n",
    "print(f\"Testing set size: {X_test.shape[0]}\")"
   ]
  },
  {
   "cell_type": "code",
   "execution_count": 56,
   "id": "e69b0856",
   "metadata": {},
   "outputs": [],
   "source": [
    "# ============================================================================\n",
    "# STEP 5: BUILD AND TRAIN MODELS\n",
    "# ============================================================================"
   ]
  },
  {
   "cell_type": "code",
   "execution_count": 57,
   "id": "27b55993",
   "metadata": {},
   "outputs": [
    {
     "name": "stdout",
     "output_type": "stream",
     "text": [
      "\n",
      "--- Model 1: Linear Regression ---\n",
      "Mean Absolute Error: 2528.45\n",
      "Root Mean Squared Error: 3887.56\n",
      "R² Score: 0.3903\n",
      "\n",
      "Feature Coefficients:\n",
      "  Year: 38.58\n",
      "  Region_Encoded: -264.86\n",
      "  Size_Category_Encoded: -3199.18\n"
     ]
    }
   ],
   "source": [
    "# Model 1: Linear Regression\n",
    "print(\"\\n--- Model 1: Linear Regression ---\")\n",
    "lr_model = LinearRegression()\n",
    "lr_model.fit(X_train, y_train)\n",
    "\n",
    "# Make predictions\n",
    "y_pred_lr = lr_model.predict(X_test)\n",
    "\n",
    "# Evaluate\n",
    "mae_lr = mean_absolute_error(y_test, y_pred_lr)\n",
    "rmse_lr = np.sqrt(mean_squared_error(y_test, y_pred_lr))\n",
    "r2_lr = r2_score(y_test, y_pred_lr)\n",
    "\n",
    "print(f\"Mean Absolute Error: {mae_lr:.2f}\")\n",
    "print(f\"Root Mean Squared Error: {rmse_lr:.2f}\")\n",
    "print(f\"R² Score: {r2_lr:.4f}\")\n",
    "\n",
    "# Feature importance for Linear Regression\n",
    "print(\"\\nFeature Coefficients:\")\n",
    "for feature, coef in zip(X.columns, lr_model.coef_):\n",
    "    print(f\"  {feature}: {coef:.2f}\")"
   ]
  },
  {
   "cell_type": "code",
   "execution_count": 58,
   "id": "7beb91bc",
   "metadata": {},
   "outputs": [
    {
     "name": "stdout",
     "output_type": "stream",
     "text": [
      "\n",
      "--- Model 2: Random Forest ---\n",
      "Mean Absolute Error: 124.00\n",
      "Root Mean Squared Error: 245.01\n",
      "R² Score: 0.9976\n",
      "\n",
      "Feature Importances:\n",
      "  Year: 0.0026\n",
      "  Region_Encoded: 0.8531\n",
      "  Size_Category_Encoded: 0.1443\n"
     ]
    }
   ],
   "source": [
    "# Model 2: Random Forest\n",
    "print(\"\\n--- Model 2: Random Forest ---\")\n",
    "rf_model = RandomForestRegressor(\n",
    "    n_estimators=100, random_state=42, max_depth=10)\n",
    "rf_model.fit(X_train, y_train)\n",
    "\n",
    "# Make predictions\n",
    "y_pred_rf = rf_model.predict(X_test)\n",
    "\n",
    "# Evaluate\n",
    "mae_rf = mean_absolute_error(y_test, y_pred_rf)\n",
    "rmse_rf = np.sqrt(mean_squared_error(y_test, y_pred_rf))\n",
    "r2_rf = r2_score(y_test, y_pred_rf)\n",
    "\n",
    "print(f\"Mean Absolute Error: {mae_rf:.2f}\")\n",
    "print(f\"Root Mean Squared Error: {rmse_rf:.2f}\")\n",
    "print(f\"R² Score: {r2_rf:.4f}\")\n",
    "\n",
    "# Feature importance for Random Forest\n",
    "print(\"\\nFeature Importances:\")\n",
    "for feature, importance in zip(X.columns, rf_model.feature_importances_):\n",
    "    print(f\"  {feature}: {importance:.4f}\")"
   ]
  },
  {
   "cell_type": "code",
   "execution_count": 59,
   "id": "461d1d96",
   "metadata": {},
   "outputs": [],
   "source": [
    "# ============================================================================\n",
    "# STEP 6: VISUALIZE RESULTS\n",
    "# ============================================================================"
   ]
  },
  {
   "cell_type": "code",
   "execution_count": 60,
   "id": "770d83de",
   "metadata": {},
   "outputs": [
    {
     "data": {
      "image/png": "[encoded data removed]",
      "text/plain": [
       "<Figure size 1000x500 with 1 Axes>"
      ]
     },
     "metadata": {},
     "output_type": "display_data"
    }
   ],
   "source": [
    "# Plot 1: Feature Importance (Random Forest)\n",
    "plt.figure(figsize=(10, 5))\n",
    "feature_importance = pd.DataFrame({\n",
    "    'Feature': X.columns,\n",
    "    'Importance': rf_model.feature_importances_\n",
    "}).sort_values('Importance', ascending=False)\n",
    "\n",
    "plt.barh(feature_importance['Feature'], feature_importance['Importance'])\n",
    "plt.xlabel('Importance')\n",
    "plt.title('Feature Importance - Random Forest Model')\n",
    "plt.tight_layout()\n",
    "plt.show()"
   ]
  },
  {
   "cell_type": "code",
   "execution_count": 61,
   "id": "aba752f4",
   "metadata": {},
   "outputs": [
    {
     "data": {
      "image/png": "[encoded data removed]",
      "text/plain": [
       "<Figure size 1000x500 with 1 Axes>"
      ]
     },
     "metadata": {},
     "output_type": "display_data"
    }
   ],
   "source": [
    "# Plot 2: Actual vs Predicted (Random Forest)\n",
    "plt.figure(figsize=(10, 5))\n",
    "plt.scatter(y_test, y_pred_rf, alpha=0.6)\n",
    "plt.plot([y_test.min(), y_test.max()], [\n",
    "         y_test.min(), y_test.max()], 'r--', lw=2)\n",
    "plt.xlabel('Actual Birth Count')\n",
    "plt.ylabel('Predicted Birth Count')\n",
    "plt.title('Random Forest: Actual vs Predicted Birth Counts')\n",
    "plt.tight_layout()\n",
    "plt.show()"
   ]
  },
  {
   "cell_type": "code",
   "execution_count": 62,
   "id": "836a8c5b",
   "metadata": {},
   "outputs": [
    {
     "data": {
      "text/plain": [
       "<Figure size 1000x500 with 0 Axes>"
      ]
     },
     "metadata": {},
     "output_type": "display_data"
    },
    {
     "data": {
      "image/png": "[encoded data removed]",
      "text/plain": [
       "<Figure size 1200x600 with 1 Axes>"
      ]
     },
     "metadata": {},
     "output_type": "display_data"
    }
   ],
   "source": [
    "# Plot 3: Model Comparison\n",
    "plt.figure(figsize=(10, 5))\n",
    "models = ['Linear Regression', 'Random Forest']\n",
    "r2_scores = [r2_lr, r2_rf]\n",
    "mae_scores = [mae_lr, mae_rf]\n",
    "\n",
    "x = np.arange(len(models))\n",
    "width = 0.35\n",
    "\n",
    "fig, ax = plt.subplots()\n",
    "ax.bar(x - width/2, r2_scores, width, label='R² Score')\n",
    "ax.bar(x + width/2, [m/1000 for m in mae_scores], width, label='MAE (÷1000)')\n",
    "\n",
    "ax.set_xlabel('Model')\n",
    "ax.set_title('Model Performance Comparison')\n",
    "ax.set_xticks(x)\n",
    "ax.set_xticklabels(models)\n",
    "ax.legend()\n",
    "plt.tight_layout()\n",
    "plt.show()"
   ]
  },
  {
   "cell_type": "code",
   "execution_count": 63,
   "id": "ee7e4b3a",
   "metadata": {},
   "outputs": [],
   "source": [
    "# ============================================================================\n",
    "# STEP 7: INTERPRETATION - WHAT DRIVES BIRTH RATES?\n",
    "# ============================================================================"
   ]
  },
  {
   "cell_type": "code",
   "execution_count": 64,
   "id": "23dfee99",
   "metadata": {},
   "outputs": [
    {
     "name": "stdout",
     "output_type": "stream",
     "text": [
      "\n",
      "Based on our Random Forest model (best performer):\n",
      "\n",
      "1. MOST IMPORTANT FACTOR: Region_Encoded\n",
      "   Importance: 85.31%\n",
      "\n",
      "2. SECOND MOST IMPORTANT: Size_Category_Encoded\n",
      "   Importance: 14.43%\n",
      "\n",
      "3. LEAST IMPORTANT: Year\n",
      "   Importance: 0.26%\n",
      "\n",
      "============================================================\n",
      "ANALYSIS COMPLETE!\n",
      "============================================================\n",
      "\n",
      "Best Model: Random Forest\n",
      "R² Score: 0.9976 (explains 99.76% of variance)\n",
      "Average prediction error: ±124 births\n"
     ]
    }
   ],
   "source": [
    "print(\"\\nBased on our Random Forest model (best performer):\")\n",
    "print(f\"\\n1. MOST IMPORTANT FACTOR: {feature_importance.iloc[0]['Feature']}\")\n",
    "print(f\"   Importance: {feature_importance.iloc[0]['Importance']:.2%}\")\n",
    "\n",
    "print(f\"\\n2. SECOND MOST IMPORTANT: {feature_importance.iloc[1]['Feature']}\")\n",
    "print(f\"   Importance: {feature_importance.iloc[1]['Importance']:.2%}\")\n",
    "\n",
    "print(f\"\\n3. LEAST IMPORTANT: {feature_importance.iloc[2]['Feature']}\")\n",
    "print(f\"   Importance: {feature_importance.iloc[2]['Importance']:.2%}\")\n",
    "\n",
    "print(\"\\n\" + \"=\"*60)\n",
    "print(\"ANALYSIS COMPLETE!\")\n",
    "print(\"=\"*60)\n",
    "print(f\"\\nBest Model: Random Forest\")\n",
    "print(f\"R² Score: {r2_rf:.4f} (explains {r2_rf*100:.2f}% of variance)\")\n",
    "print(f\"Average prediction error: ±{mae_rf:.0f} births\")"
   ]
  }
 ],
 "metadata": {
  "kernelspec": {
   "display_name": "base",
   "language": "python",
   "name": "python3"
  },
  "language_info": {
   "codemirror_mode": {
    "name": "ipython",
    "version": 3
   },
   "file_extension": ".py",
   "mimetype": "text/x-python",
   "name": "python",
   "nbconvert_exporter": "python",
   "pygments_lexer": "ipython3",
   "version": "3.13.5"
  }
 },
 "nbformat": 4,
 "nbformat_minor": 5
}
